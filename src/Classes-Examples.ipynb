{
 "cells": [
  {
   "cell_type": "code",
   "execution_count": 32,
   "metadata": {
    "collapsed": false
   },
   "outputs": [
    {
     "name": "stdout",
     "output_type": "stream",
     "text": [
      "Point = (3.0, 5.0)\n",
      "Point = (4.0, 3.0)\n",
      "dist =  2.2360679775\n"
     ]
    }
   ],
   "source": [
    "from __future__ import print_function\n",
    "class Point:\n",
    "    \n",
    "    def __init__(self, x, y):\n",
    "        self.x = x\n",
    "        self.y = y\n",
    "    \n",
    "    def __str__(self):\n",
    "       return \"Point = (%s, %s)\" %(self.x, self.y) \n",
    "    \n",
    "    '''\n",
    "    def disttozero(self):\n",
    "        val = (x*x + y*y)**0.5\n",
    "        return val\n",
    "    '''\n",
    "    \n",
    "    def dist_to_point(self, p):\n",
    "       dx = self.x - p.x\n",
    "       dy = self.y - p.y\n",
    "       dist = (dx*dx+ dy*dy)**0.5\n",
    "       return dist\n",
    "    \n",
    "    def move(self, dx, dy):\n",
    "        self.x += dx\n",
    "        self.y += dy\n",
    "       \n",
    "p = Point(3.0, 5.0)\n",
    "print(p)\n",
    "\n",
    "\n",
    "q = Point(4.0, 3.0)\n",
    "print(q)\n",
    "\n",
    "\n",
    "def dist(p, q):\n",
    "    dx = (p.x - q.x)**2\n",
    "    dy = (p.y - q.y)**2\n",
    "    return (dx + dy)**0.5\n",
    "\n",
    "\n",
    "print (\"dist = \", q.dist_to_point(p))\n",
    "\n",
    "#print p.disttozero()\n",
    "\n",
    "\n",
    "    "
   ]
  },
  {
   "cell_type": "code",
   "execution_count": 33,
   "metadata": {
    "collapsed": false,
    "scrolled": true
   },
   "outputs": [
    {
     "name": "stdout",
     "output_type": "stream",
     "text": [
      "center =  Point = (13.0, 10.0)\n",
      "length = 20 width = 10 left bottom          corner =            Point = (3.0, 5.0)\n",
      "length = 20 width = 10 left bottom          corner =            Point = (4.0, 7.0)\n"
     ]
    }
   ],
   "source": [
    "\n",
    "class Rectangle:\n",
    "    \n",
    "    def __init__(self, length, width, corner):\n",
    "        self.length = length\n",
    "        self.width = width\n",
    "        self.corner = corner\n",
    "        \n",
    "        \n",
    "    def __str__(self):\n",
    "         s = \"length = %s width = %s left bottom \\\n",
    "         corner = \\\n",
    "           %s\" %(self.length, self.width, \\\n",
    "                 str(self.corner))\n",
    "         return s   \n",
    "          \n",
    "    def find_center(self):\n",
    "        x1 = self.corner.x + self.length*0.5\n",
    "        y1 = self.corner.y + self.width *0.5\n",
    "        p = Point(x1, y1)\n",
    "        #print(\"debug center = \", str(p))\n",
    "        return p\n",
    "    \n",
    "    def move(self, dx, dy):\n",
    "        self.corner.x += dx\n",
    "        self.corner.y += dy\n",
    "        \n",
    "        \n",
    "\n",
    "p = Point(3.0, 5.0)\n",
    "rect = Rectangle(20, 10, p)\n",
    "p = rect.find_center()\n",
    "print(\"center = \", p)\n",
    "print(rect)\n",
    "rect.move(1,2)\n",
    "print(rect)\n",
    "\n",
    "        \n",
    "        \n",
    "        \n",
    "        "
   ]
  },
  {
   "cell_type": "code",
   "execution_count": 48,
   "metadata": {
    "collapsed": false
   },
   "outputs": [
    {
     "ename": "AttributeError",
     "evalue": "'list' object has no attribute 'issorted'",
     "output_type": "error",
     "traceback": [
      "\u001b[0;31m---------------------------------------------------------------------------\u001b[0m",
      "\u001b[0;31mAttributeError\u001b[0m                            Traceback (most recent call last)",
      "\u001b[0;32m<ipython-input-48-f82423cb93df>\u001b[0m in \u001b[0;36m<module>\u001b[0;34m()\u001b[0m\n\u001b[1;32m      1\u001b[0m \u001b[0ma\u001b[0m \u001b[0;34m=\u001b[0m \u001b[0;34m[\u001b[0m\u001b[0;36m21\u001b[0m\u001b[0;34m,\u001b[0m\u001b[0;36m5\u001b[0m\u001b[0;34m,\u001b[0m\u001b[0;36m2\u001b[0m\u001b[0;34m]\u001b[0m\u001b[0;34m\u001b[0m\u001b[0m\n\u001b[1;32m      2\u001b[0m \u001b[0mx\u001b[0m \u001b[0;34m=\u001b[0m \u001b[0ma\u001b[0m\u001b[0;34m.\u001b[0m\u001b[0msort\u001b[0m\u001b[0;34m(\u001b[0m\u001b[0;34m)\u001b[0m\u001b[0;34m\u001b[0m\u001b[0m\n\u001b[0;32m----> 3\u001b[0;31m \u001b[0;32mprint\u001b[0m\u001b[0;34m(\u001b[0m\u001b[0ma\u001b[0m\u001b[0;34m.\u001b[0m\u001b[0missorted\u001b[0m\u001b[0;34m(\u001b[0m\u001b[0;34m)\u001b[0m\u001b[0;34m)\u001b[0m\u001b[0;34m\u001b[0m\u001b[0m\n\u001b[0m\u001b[1;32m      4\u001b[0m \u001b[0;32mprint\u001b[0m \u001b[0;34m(\u001b[0m\u001b[0mx\u001b[0m\u001b[0;34m)\u001b[0m\u001b[0;34m\u001b[0m\u001b[0m\n\u001b[1;32m      5\u001b[0m \u001b[0;34m\u001b[0m\u001b[0m\n",
      "\u001b[0;31mAttributeError\u001b[0m: 'list' object has no attribute 'issorted'"
     ]
    }
   ],
   "source": [
    "a = [21,5,2]\n",
    "x = a.sort()\n",
    "print(a.issorted())\n",
    "print (x)\n",
    "        \n",
    " "
   ]
  },
  {
   "cell_type": "code",
   "execution_count": null,
   "metadata": {
    "collapsed": true
   },
   "outputs": [],
   "source": []
  }
 ],
 "metadata": {
  "kernelspec": {
   "display_name": "Python 2",
   "language": "python",
   "name": "python2"
  },
  "language_info": {
   "codemirror_mode": {
    "name": "ipython",
    "version": 2
   },
   "file_extension": ".py",
   "mimetype": "text/x-python",
   "name": "python",
   "nbconvert_exporter": "python",
   "pygments_lexer": "ipython2",
   "version": "2.7.12"
  }
 },
 "nbformat": 4,
 "nbformat_minor": 2
}
