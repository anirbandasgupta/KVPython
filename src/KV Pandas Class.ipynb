{
 "cells": [
  {
   "cell_type": "markdown",
   "metadata": {},
   "source": [
    "### Almost all the material is from http://www.gregreda.com/2013/10/26/intro-to-pandas-data-structures/"
   ]
  },
  {
   "cell_type": "code",
   "execution_count": 23,
   "metadata": {},
   "outputs": [],
   "source": [
    "import pandas as pd\n",
    "import numpy as np\n",
    "import matplotlib\n",
    "import matplotlib.pyplot as plt"
   ]
  },
  {
   "cell_type": "markdown",
   "metadata": {},
   "source": [
    "### Series is like a normal list."
   ]
  },
  {
   "cell_type": "code",
   "execution_count": 177,
   "metadata": {},
   "outputs": [
    {
     "data": {
      "text/plain": [
       "0              7\n",
       "1      AmarAkbar\n",
       "2           3.14\n",
       "3    -1789710578\n",
       "4         Sholay\n",
       "dtype: object"
      ]
     },
     "execution_count": 177,
     "metadata": {},
     "output_type": "execute_result"
    }
   ],
   "source": [
    "# create a Series with an arbitrary list\n",
    "s = pd.Series([7, 'AmarAkbar', 3.14, -1789710578, 'Sholay'])\n",
    "s"
   ]
  },
  {
   "cell_type": "markdown",
   "metadata": {},
   "source": [
    "## Can use a index to refer to row names (like a dictionary)."
   ]
  },
  {
   "cell_type": "code",
   "execution_count": 126,
   "metadata": {},
   "outputs": [
    {
     "data": {
      "text/plain": [
       "int                  7\n",
       "Movie1       AmarAkbar\n",
       "Pi                3.14\n",
       "LongInt    -1789710578\n",
       "Movie2          Sholay\n",
       "dtype: object"
      ]
     },
     "execution_count": 126,
     "metadata": {},
     "output_type": "execute_result"
    }
   ],
   "source": [
    "s = pd.Series([7, 'AmarAkbar', 3.14, -1789710578, 'Sholay'],\n",
    "              index=['int', 'Movie1', 'Pi', 'LongInt', 'Movie2'])\n",
    "s"
   ]
  },
  {
   "cell_type": "code",
   "execution_count": 128,
   "metadata": {},
   "outputs": [
    {
     "name": "stdout",
     "output_type": "stream",
     "text": [
      "AmarAkbar\n"
     ]
    }
   ],
   "source": [
    "print(s['Movie1'])"
   ]
  },
  {
   "cell_type": "markdown",
   "metadata": {},
   "source": [
    "## To create a Series, can use a dictionary."
   ]
  },
  {
   "cell_type": "code",
   "execution_count": 130,
   "metadata": {},
   "outputs": [
    {
     "data": {
      "text/plain": [
       "Ahmedabad    1000.0\n",
       "Kolkata      1300.0\n",
       "Mumbai        900.0\n",
       "Chennai      1100.0\n",
       "Delhi         450.0\n",
       "Jaipur          NaN\n",
       "dtype: float64"
      ]
     },
     "execution_count": 130,
     "metadata": {},
     "output_type": "execute_result"
    }
   ],
   "source": [
    "d = {'Ahmedabad': 1000, 'Kolkata': 1300, 'Mumbai': 900, 'Chennai': 1100,\n",
    "     'Delhi': 450, 'Jaipur': None}\n",
    "#print (type(d))\n",
    "cities = pd.Series(d)\n",
    "cities"
   ]
  },
  {
   "cell_type": "markdown",
   "metadata": {},
   "source": [
    "## To refer to specific rows, can use the index or use boolean indexing"
   ]
  },
  {
   "cell_type": "code",
   "execution_count": 43,
   "metadata": {},
   "outputs": [
    {
     "data": {
      "text/plain": [
       "1300.0"
      ]
     },
     "execution_count": 43,
     "metadata": {},
     "output_type": "execute_result"
    }
   ],
   "source": [
    "cities['Kolkata']"
   ]
  },
  {
   "cell_type": "code",
   "execution_count": 135,
   "metadata": {},
   "outputs": [
    {
     "name": "stdout",
     "output_type": "stream",
     "text": [
      "Mumbai      900.0\n",
      "Kolkata    1300.0\n",
      "dtype: float64\n"
     ]
    }
   ],
   "source": [
    "a = cities[['Mumbai', 'Kolkata']]\n",
    "print(a)"
   ]
  },
  {
   "cell_type": "code",
   "execution_count": 137,
   "metadata": {},
   "outputs": [
    {
     "name": "stdout",
     "output_type": "stream",
     "text": [
      "Mumbai     10000.0\n",
      "Kolkata     1300.0\n",
      "dtype: float64\n"
     ]
    }
   ],
   "source": [
    "a['Mumbai'] = 10000\n",
    "print(a)"
   ]
  },
  {
   "cell_type": "code",
   "execution_count": 138,
   "metadata": {},
   "outputs": [
    {
     "data": {
      "text/plain": [
       "900.0"
      ]
     },
     "execution_count": 138,
     "metadata": {},
     "output_type": "execute_result"
    }
   ],
   "source": [
    "cities['Mumbai']"
   ]
  },
  {
   "cell_type": "code",
   "execution_count": 140,
   "metadata": {},
   "outputs": [
    {
     "data": {
      "text/plain": [
       "Ahmedabad    1000.0\n",
       "Kolkata      1300.0\n",
       "Mumbai        900.0\n",
       "Chennai      1100.0\n",
       "Delhi         450.0\n",
       "dtype: float64"
      ]
     },
     "execution_count": 140,
     "metadata": {},
     "output_type": "execute_result"
    }
   ],
   "source": [
    "cities.iloc[0:5]"
   ]
  },
  {
   "cell_type": "code",
   "execution_count": 45,
   "metadata": {},
   "outputs": [
    {
     "data": {
      "text/plain": [
       "Ahmedabad    1000.0\n",
       "Chennai      1100.0\n",
       "Jaipur          NaN\n",
       "dtype: float64"
      ]
     },
     "execution_count": 45,
     "metadata": {},
     "output_type": "execute_result"
    }
   ],
   "source": [
    "cities[[True, False, False,True, False,True]]"
   ]
  },
  {
   "cell_type": "code",
   "execution_count": 148,
   "metadata": {},
   "outputs": [
    {
     "name": "stdout",
     "output_type": "stream",
     "text": [
      "Ahmedabad    1000.0\n",
      "Chennai      1100.0\n",
      "dtype: float64\n"
     ]
    }
   ],
   "source": [
    "a = cities[cities >= 1000]\n",
    "b = a[ a <= 1200]\n",
    "print(b)"
   ]
  },
  {
   "cell_type": "markdown",
   "metadata": {},
   "source": [
    "## Changing the values in a Series is easy"
   ]
  },
  {
   "cell_type": "code",
   "execution_count": 149,
   "metadata": {},
   "outputs": [
    {
     "name": "stdout",
     "output_type": "stream",
     "text": [
      "Old value: 1000.0\n",
      "New value: 1400.0\n"
     ]
    }
   ],
   "source": [
    "# changing based on the index\n",
    "print('Old value:', cities['Ahmedabad'])\n",
    "cities['Ahmedabad'] = 1400\n",
    "print('New value:', cities['Ahmedabad'])"
   ]
  },
  {
   "cell_type": "code",
   "execution_count": 152,
   "metadata": {},
   "outputs": [
    {
     "name": "stdout",
     "output_type": "stream",
     "text": [
      "Mumbai    750.0\n",
      "Delhi     750.0\n",
      "dtype: float64\n",
      "\n",
      "\n",
      "Mumbai    750.0\n",
      "Delhi     750.0\n",
      "dtype: float64\n"
     ]
    }
   ],
   "source": [
    "# changing values using boolean logic\n",
    "print(cities[cities < 1000])\n",
    "print('\\n')\n",
    "cities[cities < 1000] = 750\n",
    "\n",
    "#newindex = ['AMD', 'CCU', 'MUM', 'CHE', 'DEL', 'JAI']\n",
    "#cities.reindex(newindex)\n",
    "print(cities[cities < 1000])"
   ]
  },
  {
   "cell_type": "markdown",
   "metadata": {},
   "source": [
    "### Checking whether a index value is in Series is similar to regular python"
   ]
  },
  {
   "cell_type": "code",
   "execution_count": 49,
   "metadata": {},
   "outputs": [
    {
     "name": "stdout",
     "output_type": "stream",
     "text": [
      "False\n",
      "True\n"
     ]
    }
   ],
   "source": [
    "print('San Francisco' in cities)\n",
    "print('Kolkata' in cities)"
   ]
  },
  {
   "cell_type": "markdown",
   "metadata": {},
   "source": [
    "### Operations can be done directly on Series"
   ]
  },
  {
   "cell_type": "code",
   "execution_count": 154,
   "metadata": {},
   "outputs": [
    {
     "name": "stdout",
     "output_type": "stream",
     "text": [
      "Ahmedabad    350.0\n",
      "Kolkata      325.0\n",
      "Mumbai       187.5\n",
      "Chennai      275.0\n",
      "Delhi        187.5\n",
      "Jaipur         NaN\n",
      "dtype: float64\n"
     ]
    }
   ],
   "source": [
    "cities = cities * 0.5\n",
    "print(cities)"
   ]
  },
  {
   "cell_type": "code",
   "execution_count": 156,
   "metadata": {},
   "outputs": [
    {
     "name": "stdout",
     "output_type": "stream",
     "text": [
      "Ahmedabad    122500.00\n",
      "Kolkata      105625.00\n",
      "Mumbai        35156.25\n",
      "Chennai       75625.00\n",
      "Delhi         35156.25\n",
      "Jaipur             NaN\n",
      "dtype: float64\n"
     ]
    }
   ],
   "source": [
    "# square city values\n",
    "sqcities = np.square(cities)\n",
    "print(sqcities)"
   ]
  },
  {
   "cell_type": "markdown",
   "metadata": {},
   "source": [
    "### Adding two Series together?"
   ]
  },
  {
   "cell_type": "code",
   "execution_count": 160,
   "metadata": {},
   "outputs": [
    {
     "name": "stdout",
     "output_type": "stream",
     "text": [
      "Ahmedabad    350.0\n",
      "Kolkata      325.0\n",
      "dtype: float64\n",
      "\n",
      "\n",
      "Jaipur       NaN\n",
      "Kolkata    325.0\n",
      "dtype: float64\n",
      "\n",
      "\n",
      "---------\n",
      " Ahmedabad      NaN\n",
      "Jaipur         NaN\n",
      "Kolkata      650.0\n",
      "dtype: float64\n"
     ]
    }
   ],
   "source": [
    "a = cities[['Ahmedabad','Kolkata']]\n",
    "print(a)\n",
    "print(\"\\n\")\n",
    "\n",
    "b = cities[['Jaipur','Kolkata']]\n",
    "print(b)\n",
    "\n",
    "c = a + b\n",
    "print(\"\\n\\n---------\\n\",c)\n"
   ]
  },
  {
   "cell_type": "markdown",
   "metadata": {},
   "source": [
    "### None / NULL checking"
   ]
  },
  {
   "cell_type": "code",
   "execution_count": 53,
   "metadata": {},
   "outputs": [
    {
     "data": {
      "text/plain": [
       "Ahmedabad     True\n",
       "Kolkata       True\n",
       "Mumbai        True\n",
       "Chennai       True\n",
       "Delhi         True\n",
       "Jaipur       False\n",
       "dtype: bool"
      ]
     },
     "execution_count": 53,
     "metadata": {},
     "output_type": "execute_result"
    }
   ],
   "source": [
    "# returns a boolean series indicating which values aren't NULL\n",
    "cities.notnull()"
   ]
  },
  {
   "cell_type": "code",
   "execution_count": 161,
   "metadata": {},
   "outputs": [
    {
     "name": "stdout",
     "output_type": "stream",
     "text": [
      "Ahmedabad    350.0\n",
      "Kolkata      325.0\n",
      "Mumbai       187.5\n",
      "Chennai      275.0\n",
      "Delhi        187.5\n",
      "Jaipur         0.0\n",
      "dtype: float64\n"
     ]
    }
   ],
   "source": [
    "cities[cities.isnull()] = 0\n",
    "#print(cities[cities.isnull()])\n",
    "print(cities)"
   ]
  },
  {
   "cell_type": "markdown",
   "metadata": {},
   "source": [
    "# DataFrame"
   ]
  },
  {
   "cell_type": "markdown",
   "metadata": {},
   "source": [
    "### Reading data: Can be created out of python dictionary"
   ]
  },
  {
   "cell_type": "code",
   "execution_count": 167,
   "metadata": {},
   "outputs": [
    {
     "data": {
      "text/html": [
       "<div>\n",
       "<style scoped>\n",
       "    .dataframe tbody tr th:only-of-type {\n",
       "        vertical-align: middle;\n",
       "    }\n",
       "\n",
       "    .dataframe tbody tr th {\n",
       "        vertical-align: top;\n",
       "    }\n",
       "\n",
       "    .dataframe thead th {\n",
       "        text-align: right;\n",
       "    }\n",
       "</style>\n",
       "<table border=\"1\" class=\"dataframe\">\n",
       "  <thead>\n",
       "    <tr style=\"text-align: right;\">\n",
       "      <th></th>\n",
       "      <th>team</th>\n",
       "      <th>year</th>\n",
       "      <th>wins</th>\n",
       "      <th>losses</th>\n",
       "    </tr>\n",
       "  </thead>\n",
       "  <tbody>\n",
       "    <tr>\n",
       "      <th>0</th>\n",
       "      <td>RR</td>\n",
       "      <td>2010</td>\n",
       "      <td>11</td>\n",
       "      <td>5</td>\n",
       "    </tr>\n",
       "    <tr>\n",
       "      <th>1</th>\n",
       "      <td>CSK</td>\n",
       "      <td>2011</td>\n",
       "      <td>8</td>\n",
       "      <td>8</td>\n",
       "    </tr>\n",
       "    <tr>\n",
       "      <th>2</th>\n",
       "      <td>KKR</td>\n",
       "      <td>2012</td>\n",
       "      <td>10</td>\n",
       "      <td>6</td>\n",
       "    </tr>\n",
       "    <tr>\n",
       "      <th>3</th>\n",
       "      <td>KKR</td>\n",
       "      <td>2011</td>\n",
       "      <td>15</td>\n",
       "      <td>1</td>\n",
       "    </tr>\n",
       "    <tr>\n",
       "      <th>4</th>\n",
       "      <td>None</td>\n",
       "      <td>2012</td>\n",
       "      <td>11</td>\n",
       "      <td>5</td>\n",
       "    </tr>\n",
       "  </tbody>\n",
       "</table>\n",
       "</div>"
      ],
      "text/plain": [
       "   team  year  wins  losses\n",
       "0    RR  2010    11       5\n",
       "1   CSK  2011     8       8\n",
       "2   KKR  2012    10       6\n",
       "3   KKR  2011    15       1\n",
       "4  None  2012    11       5"
      ]
     },
     "execution_count": 167,
     "metadata": {},
     "output_type": "execute_result"
    }
   ],
   "source": [
    "data = {'year': [2010, 2011, 2012, 2011, 2012],\n",
    "        'team': ['RR', 'CSK', 'KKR', 'KKR', None],\n",
    "        'wins': [11, 8, 10, 15, 11],\n",
    "        'losses': [5, 8, 6, 1, 5]}\n",
    "\n",
    "\n",
    "ipl = pd.DataFrame(data, columns=['team','year', 'wins', 'losses'])\n",
    "ipl"
   ]
  },
  {
   "cell_type": "code",
   "execution_count": 168,
   "metadata": {},
   "outputs": [
    {
     "name": "stdout",
     "output_type": "stream",
     "text": [
      "data-2013.csv  data.csv  datafile.csv  data-new.csv\r\n"
     ]
    }
   ],
   "source": [
    "% ls *.csv"
   ]
  },
  {
   "cell_type": "code",
   "execution_count": 169,
   "metadata": {},
   "outputs": [
    {
     "name": "stdout",
     "output_type": "stream",
     "text": [
      "stn_code,sampling_date,state,location,agency,type,so2,no2,rspm,spm,location_monitoring_station,pm2_5,date\r\n",
      "748,1/3/2013,Andhra Pradesh,Ananthapur,Andhra Pradesh State Pollution Control Board,\"Residential, Rural and other Areas\",4,9,69,NA,\"Kamalanagar, Ananthapur\",NA,2013-03-01\r\n",
      "748,1/6/2013,Andhra Pradesh,Ananthapur,Andhra Pradesh State Pollution Control Board,\"Residential, Rural and other Areas\",4,9,71,NA,\"Kamalanagar, Ananthapur\",NA,2013-06-01\r\n",
      "748,1/9/2013,Andhra Pradesh,Ananthapur,Andhra Pradesh State Pollution Control Board,\"Residential, Rural and other Areas\",4,9,69,NA,\"Kamalanagar, Ananthapur\",NA,2013-09-01\r\n",
      "748,1/12/2013,Andhra Pradesh,Ananthapur,Andhra Pradesh State Pollution Control Board,\"Residential, Rural and other Areas\",4,9,70,NA,\"Kamalanagar, Ananthapur\",NA,2013-12-01\r\n"
     ]
    }
   ],
   "source": [
    "!head -5 data-new.csv"
   ]
  },
  {
   "cell_type": "code",
   "execution_count": 170,
   "metadata": {},
   "outputs": [
    {
     "data": {
      "text/html": [
       "<div>\n",
       "<style scoped>\n",
       "    .dataframe tbody tr th:only-of-type {\n",
       "        vertical-align: middle;\n",
       "    }\n",
       "\n",
       "    .dataframe tbody tr th {\n",
       "        vertical-align: top;\n",
       "    }\n",
       "\n",
       "    .dataframe thead th {\n",
       "        text-align: right;\n",
       "    }\n",
       "</style>\n",
       "<table border=\"1\" class=\"dataframe\">\n",
       "  <thead>\n",
       "    <tr style=\"text-align: right;\">\n",
       "      <th></th>\n",
       "      <th>stn_code</th>\n",
       "      <th>sampling_date</th>\n",
       "      <th>state</th>\n",
       "      <th>location</th>\n",
       "      <th>agency</th>\n",
       "      <th>type</th>\n",
       "      <th>so2</th>\n",
       "      <th>no2</th>\n",
       "      <th>rspm</th>\n",
       "      <th>spm</th>\n",
       "      <th>location_monitoring_station</th>\n",
       "      <th>pm2_5</th>\n",
       "      <th>date</th>\n",
       "    </tr>\n",
       "  </thead>\n",
       "  <tbody>\n",
       "    <tr>\n",
       "      <th>0</th>\n",
       "      <td>748</td>\n",
       "      <td>1/3/2013</td>\n",
       "      <td>Andhra Pradesh</td>\n",
       "      <td>Ananthapur</td>\n",
       "      <td>Andhra Pradesh State Pollution Control Board</td>\n",
       "      <td>Residential, Rural and other Areas</td>\n",
       "      <td>4.0</td>\n",
       "      <td>9.0</td>\n",
       "      <td>69.0</td>\n",
       "      <td>NaN</td>\n",
       "      <td>Kamalanagar, Ananthapur</td>\n",
       "      <td>NaN</td>\n",
       "      <td>2013-03-01</td>\n",
       "    </tr>\n",
       "    <tr>\n",
       "      <th>1</th>\n",
       "      <td>748</td>\n",
       "      <td>1/6/2013</td>\n",
       "      <td>Andhra Pradesh</td>\n",
       "      <td>Ananthapur</td>\n",
       "      <td>Andhra Pradesh State Pollution Control Board</td>\n",
       "      <td>Residential, Rural and other Areas</td>\n",
       "      <td>4.0</td>\n",
       "      <td>9.0</td>\n",
       "      <td>71.0</td>\n",
       "      <td>NaN</td>\n",
       "      <td>Kamalanagar, Ananthapur</td>\n",
       "      <td>NaN</td>\n",
       "      <td>2013-06-01</td>\n",
       "    </tr>\n",
       "    <tr>\n",
       "      <th>2</th>\n",
       "      <td>748</td>\n",
       "      <td>1/9/2013</td>\n",
       "      <td>Andhra Pradesh</td>\n",
       "      <td>Ananthapur</td>\n",
       "      <td>Andhra Pradesh State Pollution Control Board</td>\n",
       "      <td>Residential, Rural and other Areas</td>\n",
       "      <td>4.0</td>\n",
       "      <td>9.0</td>\n",
       "      <td>69.0</td>\n",
       "      <td>NaN</td>\n",
       "      <td>Kamalanagar, Ananthapur</td>\n",
       "      <td>NaN</td>\n",
       "      <td>2013-09-01</td>\n",
       "    </tr>\n",
       "    <tr>\n",
       "      <th>3</th>\n",
       "      <td>748</td>\n",
       "      <td>1/12/2013</td>\n",
       "      <td>Andhra Pradesh</td>\n",
       "      <td>Ananthapur</td>\n",
       "      <td>Andhra Pradesh State Pollution Control Board</td>\n",
       "      <td>Residential, Rural and other Areas</td>\n",
       "      <td>4.0</td>\n",
       "      <td>9.0</td>\n",
       "      <td>70.0</td>\n",
       "      <td>NaN</td>\n",
       "      <td>Kamalanagar, Ananthapur</td>\n",
       "      <td>NaN</td>\n",
       "      <td>2013-12-01</td>\n",
       "    </tr>\n",
       "    <tr>\n",
       "      <th>4</th>\n",
       "      <td>748</td>\n",
       "      <td>15-01-13</td>\n",
       "      <td>Andhra Pradesh</td>\n",
       "      <td>Ananthapur</td>\n",
       "      <td>Andhra Pradesh State Pollution Control Board</td>\n",
       "      <td>Residential, Rural and other Areas</td>\n",
       "      <td>4.0</td>\n",
       "      <td>9.0</td>\n",
       "      <td>84.0</td>\n",
       "      <td>NaN</td>\n",
       "      <td>Kamalanagar, Ananthapur</td>\n",
       "      <td>NaN</td>\n",
       "      <td>2013-01-15</td>\n",
       "    </tr>\n",
       "  </tbody>\n",
       "</table>\n",
       "</div>"
      ],
      "text/plain": [
       "  stn_code sampling_date           state    location  \\\n",
       "0      748      1/3/2013  Andhra Pradesh  Ananthapur   \n",
       "1      748      1/6/2013  Andhra Pradesh  Ananthapur   \n",
       "2      748      1/9/2013  Andhra Pradesh  Ananthapur   \n",
       "3      748     1/12/2013  Andhra Pradesh  Ananthapur   \n",
       "4      748      15-01-13  Andhra Pradesh  Ananthapur   \n",
       "\n",
       "                                         agency  \\\n",
       "0  Andhra Pradesh State Pollution Control Board   \n",
       "1  Andhra Pradesh State Pollution Control Board   \n",
       "2  Andhra Pradesh State Pollution Control Board   \n",
       "3  Andhra Pradesh State Pollution Control Board   \n",
       "4  Andhra Pradesh State Pollution Control Board   \n",
       "\n",
       "                                 type  so2  no2  rspm  spm  \\\n",
       "0  Residential, Rural and other Areas  4.0  9.0  69.0  NaN   \n",
       "1  Residential, Rural and other Areas  4.0  9.0  71.0  NaN   \n",
       "2  Residential, Rural and other Areas  4.0  9.0  69.0  NaN   \n",
       "3  Residential, Rural and other Areas  4.0  9.0  70.0  NaN   \n",
       "4  Residential, Rural and other Areas  4.0  9.0  84.0  NaN   \n",
       "\n",
       "  location_monitoring_station  pm2_5        date  \n",
       "0     Kamalanagar, Ananthapur    NaN  2013-03-01  \n",
       "1     Kamalanagar, Ananthapur    NaN  2013-06-01  \n",
       "2     Kamalanagar, Ananthapur    NaN  2013-09-01  \n",
       "3     Kamalanagar, Ananthapur    NaN  2013-12-01  \n",
       "4     Kamalanagar, Ananthapur    NaN  2013-01-15  "
      ]
     },
     "execution_count": 170,
     "metadata": {},
     "output_type": "execute_result"
    }
   ],
   "source": [
    "aqmdata = pd.read_csv('data-new.csv')\n",
    "aqmdata.head()"
   ]
  },
  {
   "cell_type": "markdown",
   "metadata": {},
   "source": [
    "## Data is at https://goo.gl/M6QUSk"
   ]
  },
  {
   "cell_type": "markdown",
   "metadata": {},
   "source": [
    "### Note that the above file had headers, which were automatically . If we did not want them we should have set headers=False"
   ]
  },
  {
   "cell_type": "code",
   "execution_count": 175,
   "metadata": {},
   "outputs": [
    {
     "data": {
      "text/html": [
       "<div>\n",
       "<style scoped>\n",
       "    .dataframe tbody tr th:only-of-type {\n",
       "        vertical-align: middle;\n",
       "    }\n",
       "\n",
       "    .dataframe tbody tr th {\n",
       "        vertical-align: top;\n",
       "    }\n",
       "\n",
       "    .dataframe thead th {\n",
       "        text-align: right;\n",
       "    }\n",
       "</style>\n",
       "<table border=\"1\" class=\"dataframe\">\n",
       "  <thead>\n",
       "    <tr style=\"text-align: right;\">\n",
       "      <th></th>\n",
       "      <th>0</th>\n",
       "      <th>1</th>\n",
       "      <th>2</th>\n",
       "      <th>3</th>\n",
       "      <th>4</th>\n",
       "      <th>5</th>\n",
       "      <th>6</th>\n",
       "    </tr>\n",
       "  </thead>\n",
       "  <tbody>\n",
       "    <tr>\n",
       "      <th>0</th>\n",
       "      <td>Country or unrecognized territory</td>\n",
       "      <td>Interna- tional Calling Code</td>\n",
       "      <td>Mobile Prefix [notes 1]</td>\n",
       "      <td>Size of NSN [notes 2]</td>\n",
       "      <td>Carrier</td>\n",
       "      <td>Notes</td>\n",
       "      <td>NaN</td>\n",
       "    </tr>\n",
       "    <tr>\n",
       "      <th>1</th>\n",
       "      <td>Abkhazia</td>\n",
       "      <td>+7</td>\n",
       "      <td>940</td>\n",
       "      <td>10</td>\n",
       "      <td>NaN</td>\n",
       "      <td>See Russia</td>\n",
       "      <td>NaN</td>\n",
       "    </tr>\n",
       "    <tr>\n",
       "      <th>2</th>\n",
       "      <td>+995</td>\n",
       "      <td>44x</td>\n",
       "      <td>9</td>\n",
       "      <td>NaN</td>\n",
       "      <td>See Georgia</td>\n",
       "      <td>NaN</td>\n",
       "      <td>NaN</td>\n",
       "    </tr>\n",
       "    <tr>\n",
       "      <th>3</th>\n",
       "      <td>Afghanistan</td>\n",
       "      <td>+93</td>\n",
       "      <td>70</td>\n",
       "      <td>?</td>\n",
       "      <td>AWCC</td>\n",
       "      <td>www.afghan-wireless.com</td>\n",
       "      <td>NaN</td>\n",
       "    </tr>\n",
       "    <tr>\n",
       "      <th>4</th>\n",
       "      <td>71</td>\n",
       "      <td>?</td>\n",
       "      <td>AWCC</td>\n",
       "      <td>www.afghan-wireless.com</td>\n",
       "      <td>NaN</td>\n",
       "      <td>NaN</td>\n",
       "      <td>NaN</td>\n",
       "    </tr>\n",
       "  </tbody>\n",
       "</table>\n",
       "</div>"
      ],
      "text/plain": [
       "                                   0                             1  \\\n",
       "0  Country or unrecognized territory  Interna- tional Calling Code   \n",
       "1                           Abkhazia                            +7   \n",
       "2                               +995                           44x   \n",
       "3                        Afghanistan                           +93   \n",
       "4                                 71                             ?   \n",
       "\n",
       "                         2                        3            4  \\\n",
       "0  Mobile Prefix [notes 1]    Size of NSN [notes 2]      Carrier   \n",
       "1                      940                       10          NaN   \n",
       "2                        9                      NaN  See Georgia   \n",
       "3                       70                        ?         AWCC   \n",
       "4                     AWCC  www.afghan-wireless.com          NaN   \n",
       "\n",
       "                         5   6  \n",
       "0                    Notes NaN  \n",
       "1               See Russia NaN  \n",
       "2                      NaN NaN  \n",
       "3  www.afghan-wireless.com NaN  \n",
       "4                      NaN NaN  "
      ]
     },
     "execution_count": 175,
     "metadata": {},
     "output_type": "execute_result"
    }
   ],
   "source": [
    "aqmdata2 =  pd.read_html(\"https://en.wikipedia.org/wiki/List_of_mobile_telephone_prefixes_by_country\", match=\"Afghanistan\")\n",
    "data = aqmdata2[0]\n",
    "data.head()\n",
    "\n"
   ]
  },
  {
   "cell_type": "code",
   "execution_count": 94,
   "metadata": {
    "scrolled": false
   },
   "outputs": [
    {
     "name": "stdout",
     "output_type": "stream",
     "text": [
      "<class 'pandas.core.frame.DataFrame'>\n",
      "RangeIndex: 29293 entries, 0 to 29292\n",
      "Data columns (total 13 columns):\n",
      "stn_code                       29293 non-null object\n",
      "sampling_date                  29292 non-null object\n",
      "state                          29292 non-null object\n",
      "location                       29292 non-null object\n",
      "agency                         29292 non-null object\n",
      "type                           29292 non-null object\n",
      "so2                            27989 non-null float64\n",
      "no2                            28015 non-null float64\n",
      "rspm                           28558 non-null float64\n",
      "spm                            2873 non-null float64\n",
      "location_monitoring_station    29292 non-null object\n",
      "pm2_5                          0 non-null float64\n",
      "date                           29292 non-null object\n",
      "dtypes: float64(5), object(8)\n",
      "memory usage: 2.9+ MB\n"
     ]
    }
   ],
   "source": [
    "aqmdata.info()"
   ]
  },
  {
   "cell_type": "code",
   "execution_count": 176,
   "metadata": {},
   "outputs": [
    {
     "data": {
      "text/html": [
       "<div>\n",
       "<style scoped>\n",
       "    .dataframe tbody tr th:only-of-type {\n",
       "        vertical-align: middle;\n",
       "    }\n",
       "\n",
       "    .dataframe tbody tr th {\n",
       "        vertical-align: top;\n",
       "    }\n",
       "\n",
       "    .dataframe thead th {\n",
       "        text-align: right;\n",
       "    }\n",
       "</style>\n",
       "<table border=\"1\" class=\"dataframe\">\n",
       "  <thead>\n",
       "    <tr style=\"text-align: right;\">\n",
       "      <th></th>\n",
       "      <th>so2</th>\n",
       "      <th>no2</th>\n",
       "      <th>rspm</th>\n",
       "      <th>spm</th>\n",
       "      <th>pm2_5</th>\n",
       "    </tr>\n",
       "  </thead>\n",
       "  <tbody>\n",
       "    <tr>\n",
       "      <th>count</th>\n",
       "      <td>27989.000000</td>\n",
       "      <td>28015.000000</td>\n",
       "      <td>28558.000000</td>\n",
       "      <td>2873.000000</td>\n",
       "      <td>0.0</td>\n",
       "    </tr>\n",
       "    <tr>\n",
       "      <th>mean</th>\n",
       "      <td>9.509525</td>\n",
       "      <td>20.829251</td>\n",
       "      <td>92.379077</td>\n",
       "      <td>35.759422</td>\n",
       "      <td>NaN</td>\n",
       "    </tr>\n",
       "    <tr>\n",
       "      <th>std</th>\n",
       "      <td>8.448074</td>\n",
       "      <td>15.185712</td>\n",
       "      <td>59.818941</td>\n",
       "      <td>45.516603</td>\n",
       "      <td>NaN</td>\n",
       "    </tr>\n",
       "    <tr>\n",
       "      <th>min</th>\n",
       "      <td>0.000000</td>\n",
       "      <td>1.000000</td>\n",
       "      <td>1.000000</td>\n",
       "      <td>10.200000</td>\n",
       "      <td>NaN</td>\n",
       "    </tr>\n",
       "    <tr>\n",
       "      <th>25%</th>\n",
       "      <td>4.000000</td>\n",
       "      <td>12.000000</td>\n",
       "      <td>52.000000</td>\n",
       "      <td>20.000000</td>\n",
       "      <td>NaN</td>\n",
       "    </tr>\n",
       "    <tr>\n",
       "      <th>50%</th>\n",
       "      <td>7.000000</td>\n",
       "      <td>17.000000</td>\n",
       "      <td>78.000000</td>\n",
       "      <td>24.460000</td>\n",
       "      <td>NaN</td>\n",
       "    </tr>\n",
       "    <tr>\n",
       "      <th>75%</th>\n",
       "      <td>13.000000</td>\n",
       "      <td>26.000000</td>\n",
       "      <td>117.000000</td>\n",
       "      <td>32.000000</td>\n",
       "      <td>NaN</td>\n",
       "    </tr>\n",
       "    <tr>\n",
       "      <th>max</th>\n",
       "      <td>122.000000</td>\n",
       "      <td>239.900000</td>\n",
       "      <td>728.000000</td>\n",
       "      <td>315.000000</td>\n",
       "      <td>NaN</td>\n",
       "    </tr>\n",
       "  </tbody>\n",
       "</table>\n",
       "</div>"
      ],
      "text/plain": [
       "                so2           no2          rspm          spm  pm2_5\n",
       "count  27989.000000  28015.000000  28558.000000  2873.000000    0.0\n",
       "mean       9.509525     20.829251     92.379077    35.759422    NaN\n",
       "std        8.448074     15.185712     59.818941    45.516603    NaN\n",
       "min        0.000000      1.000000      1.000000    10.200000    NaN\n",
       "25%        4.000000     12.000000     52.000000    20.000000    NaN\n",
       "50%        7.000000     17.000000     78.000000    24.460000    NaN\n",
       "75%       13.000000     26.000000    117.000000    32.000000    NaN\n",
       "max      122.000000    239.900000    728.000000   315.000000    NaN"
      ]
     },
     "execution_count": 176,
     "metadata": {},
     "output_type": "execute_result"
    }
   ],
   "source": [
    "aqmdata.describe()"
   ]
  },
  {
   "cell_type": "markdown",
   "metadata": {},
   "source": [
    "### You can inspect the data, and convert it to other formats"
   ]
  },
  {
   "cell_type": "code",
   "execution_count": 95,
   "metadata": {},
   "outputs": [],
   "source": [
    "aqmdata.to_excel('aqmdata.xlsx', index=False)"
   ]
  },
  {
   "cell_type": "markdown",
   "metadata": {},
   "source": [
    "### Getting the frequency of the values"
   ]
  },
  {
   "cell_type": "code",
   "execution_count": 97,
   "metadata": {},
   "outputs": [
    {
     "data": {
      "text/plain": [
       "Guwahati              1231\n",
       "Visakhapatnam          856\n",
       "Kochi                  754\n",
       "Chandigarh             740\n",
       "Hyderabad              736\n",
       "Bangalore              681\n",
       "Nashik                 620\n",
       "Pune                   615\n",
       "Nagpur                 612\n",
       "Navi Mumbai            513\n",
       "Chandrapur             482\n",
       "Baddi                  447\n",
       "Thiruvananthapuram     416\n",
       "Ahmedabad              410\n",
       "Jalgaon                380\n",
       "Thane                  313\n",
       "Sangli                 312\n",
       "Nanded                 311\n",
       "Latur                  310\n",
       "Kala Amb               308\n",
       "Korba                  303\n",
       "Aurangabad             301\n",
       "Parwanoo               295\n",
       "Vijayawada             290\n",
       "Damtal                 283\n",
       "Indore                 277\n",
       "Kolhapur               275\n",
       "Shimla                 273\n",
       "Delhi                  271\n",
       "Una                    270\n",
       "                      ... \n",
       "Badlapur                97\n",
       "Bilaspur                96\n",
       "Nalbari                 95\n",
       "Tura                    90\n",
       "Jabalpur                88\n",
       "Chitradurga             87\n",
       "Mangalore               86\n",
       "Dibrugarh               86\n",
       "Sangareddy              85\n",
       "Golaghat                85\n",
       "Belgaum                 83\n",
       "Gulbarga                82\n",
       "Ramagundam              81\n",
       "Vizianagaram            80\n",
       "Daranga                 80\n",
       "Eluru                   80\n",
       "Kolar                   78\n",
       "Jamnagar                77\n",
       "Nongstoin               76\n",
       "Raichur                 72\n",
       "Khliehriat              71\n",
       "Ranchi                  68\n",
       "Karimnagar              67\n",
       "Jharia                  61\n",
       "Sindri                  61\n",
       "Raipur                  60\n",
       "Margherita              55\n",
       "Bidar                   39\n",
       "Nizamabad               27\n",
       "Yamuna Nagar            13\n",
       "Name: location, Length: 146, dtype: int64"
      ]
     },
     "execution_count": 97,
     "metadata": {},
     "output_type": "execute_result"
    }
   ],
   "source": [
    "aqmdata['location'].value_counts()"
   ]
  },
  {
   "cell_type": "code",
   "execution_count": 111,
   "metadata": {},
   "outputs": [
    {
     "data": {
      "text/plain": [
       "59.0    331\n",
       "53.0    320\n",
       "60.0    311\n",
       "61.0    310\n",
       "57.0    309\n",
       "63.0    308\n",
       "52.0    308\n",
       "55.0    302\n",
       "56.0    299\n",
       "58.0    298\n",
       "Name: rspm, dtype: int64"
      ]
     },
     "execution_count": 111,
     "metadata": {},
     "output_type": "execute_result"
    }
   ],
   "source": [
    "rspm = aqmdata['rspm'].value_counts()\n",
    "rspm.iloc[0:10]"
   ]
  },
  {
   "cell_type": "code",
   "execution_count": 113,
   "metadata": {},
   "outputs": [
    {
     "data": {
      "text/plain": [
       "<matplotlib.axes._subplots.AxesSubplot at 0x7f2fb99afa90>"
      ]
     },
     "execution_count": 113,
     "metadata": {},
     "output_type": "execute_result"
    },
    {
     "data": {
      "image/png": "[encoded data removed]",
      "text/plain": [
       "<Figure size 432x288 with 1 Axes>"
      ]
     },
     "metadata": {},
     "output_type": "display_data"
    }
   ],
   "source": [
    "rspmcum = rspm.cumsum()\n",
    "rspmcum.plot()"
   ]
  },
  {
   "cell_type": "code",
   "execution_count": 123,
   "metadata": {},
   "outputs": [
    {
     "data": {
      "text/plain": [
       "False"
      ]
     },
     "execution_count": 123,
     "metadata": {},
     "output_type": "execute_result"
    }
   ],
   "source": [
    "rspmhigh = aqmdata[aqmdata['rspm'] > 55]\n",
    "'Ahmedabad' in rspmhigh"
   ]
  },
  {
   "cell_type": "code",
   "execution_count": 124,
   "metadata": {},
   "outputs": [
    {
     "data": {
      "text/plain": [
       "Maharashtra         5325\n",
       "Andhra Pradesh      2897\n",
       "Assam               2341\n",
       "Himachal Pradesh    1890\n",
       "Karnataka           1501\n",
       "Gujarat             1402\n",
       "Madhya Pradesh      1037\n",
       "Kerala               924\n",
       "Goa                  696\n",
       "Chandigarh           615\n",
       "Chhattisgarh         531\n",
       "Jharkhand            450\n",
       "Delhi                269\n",
       "Jammu & Kashmir      225\n",
       "Meghalaya            217\n",
       "Haryana              112\n",
       "Mizoram               38\n",
       "Name: state, dtype: int64"
      ]
     },
     "execution_count": 124,
     "metadata": {},
     "output_type": "execute_result"
    }
   ],
   "source": [
    "rspmhigh['state'].value_counts()"
   ]
  },
  {
   "cell_type": "code",
   "execution_count": 125,
   "metadata": {},
   "outputs": [
    {
     "data": {
      "text/plain": [
       "Guwahati          1188\n",
       "Chandigarh         615\n",
       "Hyderabad          596\n",
       "Bangalore          571\n",
       "Nashik             481\n",
       "Nagpur             474\n",
       "Kochi              455\n",
       "Navi Mumbai        422\n",
       "Visakhapatnam      418\n",
       "Pune               412\n",
       "Jalgaon            365\n",
       "Ahmedabad          356\n",
       "Chandrapur         347\n",
       "Baddi              320\n",
       "Kala Amb           276\n",
       "Vijayawada         275\n",
       "Delhi              269\n",
       "Thane              269\n",
       "Surat              267\n",
       "Kolhapur           265\n",
       "Una                260\n",
       "Aurangabad         253\n",
       "Latur              249\n",
       "Bhilai             243\n",
       "Mumbai             240\n",
       "Jammu              225\n",
       "Paonta Sahib       224\n",
       "Amravati           222\n",
       "Sivasagar          208\n",
       "Bhopal             203\n",
       "                  ... \n",
       "Bicholim            46\n",
       "Assanora            44\n",
       "Honda               43\n",
       "Shimoga             42\n",
       "Curchorem           38\n",
       "Aizawl              38\n",
       "Ponda               38\n",
       "Kollam              37\n",
       "Tilamol             36\n",
       "Bongaigaon          36\n",
       "Vizianagaram        36\n",
       "Panaji              35\n",
       "Bidar               35\n",
       "Karimnagar          33\n",
       "Sanguem             32\n",
       "Margherita          31\n",
       "Codli               27\n",
       "Palakkad            26\n",
       "Wayanad             23\n",
       "Kolar               21\n",
       "Thissur             20\n",
       "Nizamabad           15\n",
       "Mandya              14\n",
       "Yamuna Nagar        12\n",
       "Tirupati             8\n",
       "Tura                 7\n",
       "Malappuram           7\n",
       "Chitradurga          5\n",
       "Khliehriat           3\n",
       "Pathanamthitta       1\n",
       "Name: location, Length: 142, dtype: int64"
      ]
     },
     "execution_count": 125,
     "metadata": {},
     "output_type": "execute_result"
    }
   ],
   "source": [
    "rspmhigh['location'].value_counts()"
   ]
  },
  {
   "cell_type": "code",
   "execution_count": null,
   "metadata": {},
   "outputs": [],
   "source": []
  }
 ],
 "metadata": {
  "kernelspec": {
   "display_name": "Python 3",
   "language": "python",
   "name": "python3"
  },
  "language_info": {
   "codemirror_mode": {
    "name": "ipython",
    "version": 3
   },
   "file_extension": ".py",
   "mimetype": "text/x-python",
   "name": "python",
   "nbconvert_exporter": "python",
   "pygments_lexer": "ipython3",
   "version": "3.6.5"
  }
 },
 "nbformat": 4,
 "nbformat_minor": 2
}
